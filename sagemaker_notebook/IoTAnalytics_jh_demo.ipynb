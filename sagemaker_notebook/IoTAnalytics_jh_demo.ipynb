{
 "cells": [
  {
   "cell_type": "markdown",
   "metadata": {},
   "source": [
    "<p>\n",
    "    <img src=\"https://s3.amazonaws.com/iotanalytics-templates/Logo.png\" style=\"float:left;\">\n",
    "    <h1 style=\"color:#1A5276;padding-left:115px;padding-bottom:0px;font-size:28px;\">AWS IoT Analytics | Smart Building Energy Consumption</h1>\n",
    "</p>\n",
    "<p style=\"color:#1A5276;padding-left:90px;padding-top:0px;position:relative;font-style:italic;font-size:18px\">\n",
    "Application of Bench-marking Feature Engineering and AutoGluon to automate the model training for building energy consumption prediction.   \n",
    "</p>"
   ]
  },
  {
   "cell_type": "markdown",
   "metadata": {},
   "source": [
    "## Set-up: Import Required Notebook Libraries"
   ]
  },
  {
   "cell_type": "code",
   "execution_count": 1,
   "metadata": {},
   "outputs": [],
   "source": [
    "#This notebook uses holidays package\n",
    "\n",
    "try:\n",
    "    import holidays\n",
    "    import lightgbm as lgb\n",
    "except:\n",
    "    !pip install holidays\n",
    "    import holidays\n",
    "    !pip install lightgbm\n",
    "    import lightgbm as lgb"
   ]
  },
  {
   "cell_type": "code",
   "execution_count": 2,
   "metadata": {},
   "outputs": [],
   "source": [
    "import pandas as pd\n",
    "import numpy as np\n",
    "import boto3\n",
    "import os\n",
    "import sys\n",
    "import matplotlib.pyplot as plt\n",
    "from sklearn.preprocessing import LabelEncoder\n",
    "from sklearn.model_selection import KFold\n",
    "import datetime\n",
    "import gc\n",
    "from sklearn.metrics import mean_squared_error\n",
    "\n",
    "\n",
    "from sklearn.base import BaseEstimator, TransformerMixin\n",
    "from sklearn.preprocessing import OneHotEncoder, StandardScaler\n",
    "from sklearn.impute import SimpleImputer\n",
    "from sklearn.pipeline import FeatureUnion, Pipeline "
   ]
  },
  {
   "cell_type": "code",
   "execution_count": 3,
   "metadata": {},
   "outputs": [],
   "source": [
    "import warnings\n",
    "\n",
    "warnings.filterwarnings(\"ignore\", message=\"numpy.dtype size changed\")\n",
    "warnings.filterwarnings(\"ignore\", message=\"numpy.ufunc size changed\")\n",
    "warnings.simplefilter(action='ignore', category=FutureWarning)"
   ]
  },
  {
   "cell_type": "markdown",
   "metadata": {},
   "source": [
    "<h1 style=\"color:#20B3CD;font-size:20px;float:left\">Step 1  |  Load Data from IoTAnalytics</h1> <div style=\"float:right;height:7px;background-color:#20B3CD;margin-top:30px;width:70%\"></div>"
   ]
  },
  {
   "cell_type": "code",
   "execution_count": 4,
   "metadata": {},
   "outputs": [],
   "source": [
    "# Before actually loading the data we need to set up an IoT Analytics client for accessing datasets.\n",
    "# create IoT Analytics client\n",
    "client = boto3.client('iotanalytics')\n",
    "use_sample_dataset = True\n",
    "dataset = \"blogdemo_iot_highreso_dataset\""
   ]
  },
  {
   "cell_type": "markdown",
   "metadata": {
    "collapsed": true
   },
   "source": [
    "Now we can get the data location (URL) for the given dataset and start working with the data (In order to need to perform get_dataset_content, you need to grant iot analytics corresponding IAM permission):"
   ]
  },
  {
   "cell_type": "code",
   "execution_count": 5,
   "metadata": {},
   "outputs": [],
   "source": [
    "# import target Data Set from AWS IoT Analytics service\n",
    "\n",
    "dataset_url = client.get_dataset_content(datasetName = dataset)['entries'][0]['dataURI']\n",
    "train_df = pd.read_csv(dataset_url,parse_dates=True)\n",
    "if train_df.empty:\n",
    "    raise Exception('No data found')\n",
    "    \n",
    "# start working with the data\n",
    "drop_col = ['city','country','state','__dt']\n",
    "train_df.drop(drop_col, axis=1, inplace=True) # removes unnecessary columns"
   ]
  },
  {
   "cell_type": "code",
   "execution_count": 6,
   "metadata": {},
   "outputs": [
    {
     "data": {
      "text/html": [
       "<div>\n",
       "<style scoped>\n",
       "    .dataframe tbody tr th:only-of-type {\n",
       "        vertical-align: middle;\n",
       "    }\n",
       "\n",
       "    .dataframe tbody tr th {\n",
       "        vertical-align: top;\n",
       "    }\n",
       "\n",
       "    .dataframe thead th {\n",
       "        text-align: right;\n",
       "    }\n",
       "</style>\n",
       "<table border=\"1\" class=\"dataframe\">\n",
       "  <thead>\n",
       "    <tr style=\"text-align: right;\">\n",
       "      <th></th>\n",
       "      <th>building_id</th>\n",
       "      <th>meter</th>\n",
       "      <th>timestamp</th>\n",
       "      <th>meter_reading</th>\n",
       "      <th>site_id</th>\n",
       "      <th>primary_use</th>\n",
       "      <th>square_feet</th>\n",
       "      <th>year_built</th>\n",
       "      <th>floor_count</th>\n",
       "      <th>air_temperature</th>\n",
       "      <th>cloud_coverage</th>\n",
       "      <th>dew_temperature</th>\n",
       "      <th>precip_depth_1_hr</th>\n",
       "      <th>sea_level_pressure</th>\n",
       "      <th>wind_direction</th>\n",
       "      <th>wind_speed</th>\n",
       "    </tr>\n",
       "  </thead>\n",
       "  <tbody>\n",
       "    <tr>\n",
       "      <th>0</th>\n",
       "      <td>1241</td>\n",
       "      <td>1</td>\n",
       "      <td>2016-08-08 05:00:00</td>\n",
       "      <td>1755.090</td>\n",
       "      <td>14</td>\n",
       "      <td>Healthcare</td>\n",
       "      <td>194188</td>\n",
       "      <td>NaN</td>\n",
       "      <td>NaN</td>\n",
       "      <td>21.1</td>\n",
       "      <td>NaN</td>\n",
       "      <td>17.8</td>\n",
       "      <td>0.0</td>\n",
       "      <td>1014.0</td>\n",
       "      <td>340.0</td>\n",
       "      <td>1.5</td>\n",
       "    </tr>\n",
       "    <tr>\n",
       "      <th>1</th>\n",
       "      <td>1241</td>\n",
       "      <td>0</td>\n",
       "      <td>2016-08-07 17:00:00</td>\n",
       "      <td>0.000</td>\n",
       "      <td>14</td>\n",
       "      <td>Healthcare</td>\n",
       "      <td>194188</td>\n",
       "      <td>NaN</td>\n",
       "      <td>NaN</td>\n",
       "      <td>28.3</td>\n",
       "      <td>0.0</td>\n",
       "      <td>15.6</td>\n",
       "      <td>0.0</td>\n",
       "      <td>1012.0</td>\n",
       "      <td>NaN</td>\n",
       "      <td>NaN</td>\n",
       "    </tr>\n",
       "    <tr>\n",
       "      <th>2</th>\n",
       "      <td>1241</td>\n",
       "      <td>2</td>\n",
       "      <td>2016-08-09 18:00:00</td>\n",
       "      <td>729.639</td>\n",
       "      <td>14</td>\n",
       "      <td>Healthcare</td>\n",
       "      <td>194188</td>\n",
       "      <td>NaN</td>\n",
       "      <td>NaN</td>\n",
       "      <td>28.9</td>\n",
       "      <td>NaN</td>\n",
       "      <td>18.3</td>\n",
       "      <td>0.0</td>\n",
       "      <td>1022.0</td>\n",
       "      <td>0.0</td>\n",
       "      <td>0.0</td>\n",
       "    </tr>\n",
       "    <tr>\n",
       "      <th>3</th>\n",
       "      <td>1241</td>\n",
       "      <td>0</td>\n",
       "      <td>2016-08-12 19:00:00</td>\n",
       "      <td>0.000</td>\n",
       "      <td>14</td>\n",
       "      <td>Healthcare</td>\n",
       "      <td>194188</td>\n",
       "      <td>NaN</td>\n",
       "      <td>NaN</td>\n",
       "      <td>35.0</td>\n",
       "      <td>0.0</td>\n",
       "      <td>22.8</td>\n",
       "      <td>0.0</td>\n",
       "      <td>1010.5</td>\n",
       "      <td>230.0</td>\n",
       "      <td>4.1</td>\n",
       "    </tr>\n",
       "    <tr>\n",
       "      <th>4</th>\n",
       "      <td>1241</td>\n",
       "      <td>2</td>\n",
       "      <td>2016-07-23 04:00:00</td>\n",
       "      <td>580.037</td>\n",
       "      <td>14</td>\n",
       "      <td>Healthcare</td>\n",
       "      <td>194188</td>\n",
       "      <td>NaN</td>\n",
       "      <td>NaN</td>\n",
       "      <td>27.8</td>\n",
       "      <td>0.0</td>\n",
       "      <td>21.7</td>\n",
       "      <td>0.0</td>\n",
       "      <td>1010.0</td>\n",
       "      <td>240.0</td>\n",
       "      <td>2.6</td>\n",
       "    </tr>\n",
       "  </tbody>\n",
       "</table>\n",
       "</div>"
      ],
      "text/plain": [
       "   building_id  meter            timestamp  meter_reading  site_id  \\\n",
       "0         1241      1  2016-08-08 05:00:00       1755.090       14   \n",
       "1         1241      0  2016-08-07 17:00:00          0.000       14   \n",
       "2         1241      2  2016-08-09 18:00:00        729.639       14   \n",
       "3         1241      0  2016-08-12 19:00:00          0.000       14   \n",
       "4         1241      2  2016-07-23 04:00:00        580.037       14   \n",
       "\n",
       "  primary_use  square_feet  year_built  floor_count  air_temperature  \\\n",
       "0  Healthcare       194188         NaN          NaN             21.1   \n",
       "1  Healthcare       194188         NaN          NaN             28.3   \n",
       "2  Healthcare       194188         NaN          NaN             28.9   \n",
       "3  Healthcare       194188         NaN          NaN             35.0   \n",
       "4  Healthcare       194188         NaN          NaN             27.8   \n",
       "\n",
       "   cloud_coverage  dew_temperature  precip_depth_1_hr  sea_level_pressure  \\\n",
       "0             NaN             17.8                0.0              1014.0   \n",
       "1             0.0             15.6                0.0              1012.0   \n",
       "2             NaN             18.3                0.0              1022.0   \n",
       "3             0.0             22.8                0.0              1010.5   \n",
       "4             0.0             21.7                0.0              1010.0   \n",
       "\n",
       "   wind_direction  wind_speed  \n",
       "0           340.0         1.5  \n",
       "1             NaN         NaN  \n",
       "2             0.0         0.0  \n",
       "3           230.0         4.1  \n",
       "4           240.0         2.6  "
      ]
     },
     "execution_count": 6,
     "metadata": {},
     "output_type": "execute_result"
    }
   ],
   "source": [
    "train_df.head()"
   ]
  },
  {
   "cell_type": "markdown",
   "metadata": {},
   "source": [
    "<h1 style=\"color:#20B3CD;font-size:20px;float:left\">Step 2  |  Feature Engineering</h1> <div style=\"float:right;height:7px;background-color:#20B3CD;margin-top:30px;width:70%\"></div>"
   ]
  },
  {
   "cell_type": "markdown",
   "metadata": {},
   "source": [
    "## (1) Weathertransformer\n",
    "\n",
    "#### Added missing time-series data by finding start_date-end_date\n",
    "#### Then fill in missed data invweather data, temperature, cloud coverage, due_temperature, sea_level, wind_direction, wind_speed, precip_depth"
   ]
  },
  {
   "cell_type": "code",
   "execution_count": 7,
   "metadata": {},
   "outputs": [],
   "source": [
    "from weathertranformer import WeatherTranformer"
   ]
  },
  {
   "cell_type": "code",
   "execution_count": 8,
   "metadata": {},
   "outputs": [],
   "source": [
    "train_df = WeatherTranformer(True).fit_transform(train_df)"
   ]
  },
  {
   "cell_type": "markdown",
   "metadata": {},
   "source": [
    "## (2) Smoothing Filter\n",
    "\n",
    "#### Smooth air and dew temperature"
   ]
  },
  {
   "cell_type": "code",
   "execution_count": 9,
   "metadata": {},
   "outputs": [],
   "source": [
    "from SGFilter import SGFilterTranformer"
   ]
  },
  {
   "cell_type": "code",
   "execution_count": 10,
   "metadata": {},
   "outputs": [],
   "source": [
    "train_df = SGFilterTranformer(True).fit_transform(train_df)"
   ]
  },
  {
   "cell_type": "markdown",
   "metadata": {},
   "source": [
    "## (3) Rolling Window\n",
    "\n",
    "#### Calculate min max std within a time window of 24"
   ]
  },
  {
   "cell_type": "code",
   "execution_count": 11,
   "metadata": {},
   "outputs": [],
   "source": [
    "from Rollwindow import RollwinTranformer"
   ]
  },
  {
   "cell_type": "code",
   "execution_count": 12,
   "metadata": {},
   "outputs": [],
   "source": [
    "train_df = RollwinTranformer(True,24).fit_transform(train_df)   "
   ]
  },
  {
   "cell_type": "markdown",
   "metadata": {},
   "source": [
    "## (4) Numerical Features\n",
    "\n",
    "#### Feature transform for Numerical Features"
   ]
  },
  {
   "cell_type": "code",
   "execution_count": 13,
   "metadata": {},
   "outputs": [],
   "source": [
    "from NumericalEng import NumericalTransformer"
   ]
  },
  {
   "cell_type": "code",
   "execution_count": 14,
   "metadata": {},
   "outputs": [],
   "source": [
    "train_df = NumericalTransformer(True, True, False, True, True, True, True).fit_transform(train_df)"
   ]
  },
  {
   "cell_type": "markdown",
   "metadata": {},
   "source": [
    "## (4) Holidays Features\n",
    "\n",
    "### Add one feature to state if that day is public holiday or not\n"
   ]
  },
  {
   "cell_type": "code",
   "execution_count": 15,
   "metadata": {},
   "outputs": [],
   "source": [
    "from HolidayFea import HolidayTranformer"
   ]
  },
  {
   "cell_type": "code",
   "execution_count": 16,
   "metadata": {},
   "outputs": [],
   "source": [
    "train_df = HolidayTranformer(True).fit_transform(train_df)\n"
   ]
  },
  {
   "cell_type": "markdown",
   "metadata": {},
   "source": [
    "## (5) One hot Encoding for Primary use\n",
    "\n",
    "### One hot encoding for categorical feature"
   ]
  },
  {
   "cell_type": "code",
   "execution_count": 17,
   "metadata": {},
   "outputs": [],
   "source": [
    "from LabelEncode import CategoricalTransformer"
   ]
  },
  {
   "cell_type": "code",
   "execution_count": 18,
   "metadata": {},
   "outputs": [],
   "source": [
    "train_df.dropna(subset=['building_id'],inplace=True)\n"
   ]
  },
  {
   "cell_type": "code",
   "execution_count": 19,
   "metadata": {},
   "outputs": [],
   "source": [
    "train_df = CategoricalTransformer().fit_transform(train_df)"
   ]
  },
  {
   "cell_type": "code",
   "execution_count": 20,
   "metadata": {},
   "outputs": [
    {
     "data": {
      "text/html": [
       "<div>\n",
       "<style scoped>\n",
       "    .dataframe tbody tr th:only-of-type {\n",
       "        vertical-align: middle;\n",
       "    }\n",
       "\n",
       "    .dataframe tbody tr th {\n",
       "        vertical-align: top;\n",
       "    }\n",
       "\n",
       "    .dataframe thead th {\n",
       "        text-align: right;\n",
       "    }\n",
       "</style>\n",
       "<table border=\"1\" class=\"dataframe\">\n",
       "  <thead>\n",
       "    <tr style=\"text-align: right;\">\n",
       "      <th></th>\n",
       "      <th>site_id</th>\n",
       "      <th>building_id</th>\n",
       "      <th>meter</th>\n",
       "      <th>meter_reading</th>\n",
       "      <th>primary_use</th>\n",
       "      <th>square_feet</th>\n",
       "      <th>air_temperature</th>\n",
       "      <th>cloud_coverage</th>\n",
       "      <th>dew_temperature</th>\n",
       "      <th>precip_depth_1_hr</th>\n",
       "      <th>...</th>\n",
       "      <th>wind_speed_max_lag24</th>\n",
       "      <th>wind_speed_min_lag24</th>\n",
       "      <th>wind_speed_std_lag24</th>\n",
       "      <th>floor_area</th>\n",
       "      <th>hour</th>\n",
       "      <th>weekend</th>\n",
       "      <th>week</th>\n",
       "      <th>month</th>\n",
       "      <th>yr_built</th>\n",
       "      <th>IsHoliday</th>\n",
       "    </tr>\n",
       "  </thead>\n",
       "  <tbody>\n",
       "    <tr>\n",
       "      <th>0</th>\n",
       "      <td>1</td>\n",
       "      <td>144.0</td>\n",
       "      <td>3.0</td>\n",
       "      <td>9.7989</td>\n",
       "      <td>6</td>\n",
       "      <td>10.962562</td>\n",
       "      <td>3.800000</td>\n",
       "      <td>0.000000</td>\n",
       "      <td>2.400000</td>\n",
       "      <td>0.0</td>\n",
       "      <td>...</td>\n",
       "      <td>8.796875</td>\n",
       "      <td>0.0</td>\n",
       "      <td>2.451172</td>\n",
       "      <td>11534.6</td>\n",
       "      <td>0</td>\n",
       "      <td>4</td>\n",
       "      <td>53</td>\n",
       "      <td>1</td>\n",
       "      <td>NaN</td>\n",
       "      <td>1</td>\n",
       "    </tr>\n",
       "    <tr>\n",
       "      <th>1</th>\n",
       "      <td>4</td>\n",
       "      <td>618.0</td>\n",
       "      <td>0.0</td>\n",
       "      <td>83.6000</td>\n",
       "      <td>0</td>\n",
       "      <td>11.905191</td>\n",
       "      <td>5.743820</td>\n",
       "      <td>1.146067</td>\n",
       "      <td>-5.159551</td>\n",
       "      <td>0.0</td>\n",
       "      <td>...</td>\n",
       "      <td>6.199219</td>\n",
       "      <td>0.0</td>\n",
       "      <td>1.812500</td>\n",
       "      <td>29606.4</td>\n",
       "      <td>0</td>\n",
       "      <td>4</td>\n",
       "      <td>53</td>\n",
       "      <td>1</td>\n",
       "      <td>96.0</td>\n",
       "      <td>1</td>\n",
       "    </tr>\n",
       "    <tr>\n",
       "      <th>2</th>\n",
       "      <td>14</td>\n",
       "      <td>1285.0</td>\n",
       "      <td>2.0</td>\n",
       "      <td>951.8110</td>\n",
       "      <td>3</td>\n",
       "      <td>11.775813</td>\n",
       "      <td>3.976946</td>\n",
       "      <td>1.291339</td>\n",
       "      <td>-3.134731</td>\n",
       "      <td>0.0</td>\n",
       "      <td>...</td>\n",
       "      <td>7.199219</td>\n",
       "      <td>0.0</td>\n",
       "      <td>1.969727</td>\n",
       "      <td>NaN</td>\n",
       "      <td>0</td>\n",
       "      <td>4</td>\n",
       "      <td>53</td>\n",
       "      <td>1</td>\n",
       "      <td>NaN</td>\n",
       "      <td>1</td>\n",
       "    </tr>\n",
       "    <tr>\n",
       "      <th>3</th>\n",
       "      <td>6</td>\n",
       "      <td>776.0</td>\n",
       "      <td>2.0</td>\n",
       "      <td>0.0000</td>\n",
       "      <td>6</td>\n",
       "      <td>11.558549</td>\n",
       "      <td>6.961111</td>\n",
       "      <td>0.163934</td>\n",
       "      <td>1.087500</td>\n",
       "      <td>0.0</td>\n",
       "      <td>...</td>\n",
       "      <td>5.816406</td>\n",
       "      <td>0.0</td>\n",
       "      <td>1.617188</td>\n",
       "      <td>NaN</td>\n",
       "      <td>0</td>\n",
       "      <td>4</td>\n",
       "      <td>53</td>\n",
       "      <td>1</td>\n",
       "      <td>NaN</td>\n",
       "      <td>1</td>\n",
       "    </tr>\n",
       "    <tr>\n",
       "      <th>4</th>\n",
       "      <td>2</td>\n",
       "      <td>158.0</td>\n",
       "      <td>0.0</td>\n",
       "      <td>19.4900</td>\n",
       "      <td>6</td>\n",
       "      <td>9.223849</td>\n",
       "      <td>15.600000</td>\n",
       "      <td>6.000000</td>\n",
       "      <td>-5.600000</td>\n",
       "      <td>0.0</td>\n",
       "      <td>...</td>\n",
       "      <td>4.101562</td>\n",
       "      <td>0.0</td>\n",
       "      <td>1.358398</td>\n",
       "      <td>NaN</td>\n",
       "      <td>0</td>\n",
       "      <td>4</td>\n",
       "      <td>53</td>\n",
       "      <td>1</td>\n",
       "      <td>NaN</td>\n",
       "      <td>1</td>\n",
       "    </tr>\n",
       "  </tbody>\n",
       "</table>\n",
       "<p>5 rows × 50 columns</p>\n",
       "</div>"
      ],
      "text/plain": [
       "   site_id  building_id  meter  meter_reading  primary_use  square_feet  \\\n",
       "0        1        144.0    3.0         9.7989            6    10.962562   \n",
       "1        4        618.0    0.0        83.6000            0    11.905191   \n",
       "2       14       1285.0    2.0       951.8110            3    11.775813   \n",
       "3        6        776.0    2.0         0.0000            6    11.558549   \n",
       "4        2        158.0    0.0        19.4900            6     9.223849   \n",
       "\n",
       "   air_temperature  cloud_coverage  dew_temperature  precip_depth_1_hr  ...  \\\n",
       "0         3.800000        0.000000         2.400000                0.0  ...   \n",
       "1         5.743820        1.146067        -5.159551                0.0  ...   \n",
       "2         3.976946        1.291339        -3.134731                0.0  ...   \n",
       "3         6.961111        0.163934         1.087500                0.0  ...   \n",
       "4        15.600000        6.000000        -5.600000                0.0  ...   \n",
       "\n",
       "   wind_speed_max_lag24  wind_speed_min_lag24  wind_speed_std_lag24  \\\n",
       "0              8.796875                   0.0              2.451172   \n",
       "1              6.199219                   0.0              1.812500   \n",
       "2              7.199219                   0.0              1.969727   \n",
       "3              5.816406                   0.0              1.617188   \n",
       "4              4.101562                   0.0              1.358398   \n",
       "\n",
       "   floor_area  hour  weekend  week  month  yr_built  IsHoliday  \n",
       "0     11534.6     0        4    53      1       NaN          1  \n",
       "1     29606.4     0        4    53      1      96.0          1  \n",
       "2         NaN     0        4    53      1       NaN          1  \n",
       "3         NaN     0        4    53      1       NaN          1  \n",
       "4         NaN     0        4    53      1       NaN          1  \n",
       "\n",
       "[5 rows x 50 columns]"
      ]
     },
     "execution_count": 20,
     "metadata": {},
     "output_type": "execute_result"
    }
   ],
   "source": [
    "train_df.head(5)"
   ]
  },
  {
   "cell_type": "markdown",
   "metadata": {},
   "source": [
    "## (6) Remove Outliers\n",
    "### Delete outliers for each meter type, this is determined by data exploration"
   ]
  },
  {
   "cell_type": "code",
   "execution_count": 21,
   "metadata": {},
   "outputs": [],
   "source": [
    "from OutlierProcess import OutlierTransformer"
   ]
  },
  {
   "cell_type": "code",
   "execution_count": 22,
   "metadata": {},
   "outputs": [],
   "source": [
    "train_df = OutlierTransformer(True,True,True).fit_transform(train_df)"
   ]
  },
  {
   "cell_type": "code",
   "execution_count": 23,
   "metadata": {},
   "outputs": [
    {
     "data": {
      "text/plain": [
       "987852"
      ]
     },
     "execution_count": 23,
     "metadata": {},
     "output_type": "execute_result"
    }
   ],
   "source": [
    "len(train_df)"
   ]
  },
  {
   "cell_type": "markdown",
   "metadata": {},
   "source": [
    "## (7) Logrithm of target\n",
    "### Apply log function to normalize target"
   ]
  },
  {
   "cell_type": "code",
   "execution_count": 24,
   "metadata": {},
   "outputs": [],
   "source": [
    "target_smooth=True\n",
    "if target_smooth:\n",
    "    target = np.log1p(train_df[\"meter_reading\"])\n",
    "else:    \n",
    "    target = train_df[\"meter_reading\"]\n",
    "features = train_df.drop(['meter_reading'], axis = 1)"
   ]
  },
  {
   "cell_type": "markdown",
   "metadata": {},
   "source": [
    "<h1 style=\"color:#20B3CD;font-size:20px;float:left\">Step 3  |  Algorithm Training</h1> <div style=\"float:right;height:7px;background-color:#20B3CD;margin-top:30px;width:70%\"></div>"
   ]
  },
  {
   "cell_type": "code",
   "execution_count": 25,
   "metadata": {},
   "outputs": [
    {
     "name": "stderr",
     "output_type": "stream",
     "text": [
      "/home/ec2-user/anaconda3/envs/python3/lib/python3.6/site-packages/lightgbm/basic.py:1551: UserWarning: Using categorical_feature in Dataset.\n",
      "  warnings.warn('Using categorical_feature in Dataset.')\n"
     ]
    },
    {
     "name": "stdout",
     "output_type": "stream",
     "text": [
      "[LightGBM] [Warning] Auto-choosing col-wise multi-threading, the overhead of testing was 0.060907 seconds.\n",
      "You can set `force_col_wise=true` to remove the overhead.\n",
      "[LightGBM] [Info] Total Bins 10025\n",
      "[LightGBM] [Info] Number of data points in the train set: 658568, number of used features: 49\n"
     ]
    },
    {
     "name": "stderr",
     "output_type": "stream",
     "text": [
      "/home/ec2-user/anaconda3/envs/python3/lib/python3.6/site-packages/lightgbm/basic.py:1286: UserWarning: Overriding the parameters from Reference Dataset.\n",
      "  warnings.warn('Overriding the parameters from Reference Dataset.')\n",
      "/home/ec2-user/anaconda3/envs/python3/lib/python3.6/site-packages/lightgbm/basic.py:1098: UserWarning: categorical_column in param dict is overridden.\n",
      "  warnings.warn('{} in param dict is overridden.'.format(cat_alias))\n"
     ]
    },
    {
     "name": "stdout",
     "output_type": "stream",
     "text": [
      "[LightGBM] [Info] Start training from score 4.235999\n",
      "Training until validation scores don't improve for 40 rounds\n",
      "[25]\ttraining's rmse: 1.04068\tvalid_1's rmse: 1.33678\n",
      "[50]\ttraining's rmse: 0.753421\tvalid_1's rmse: 1.21479\n",
      "[75]\ttraining's rmse: 0.637799\tvalid_1's rmse: 1.19316\n",
      "[100]\ttraining's rmse: 0.567605\tvalid_1's rmse: 1.18663\n",
      "[125]\ttraining's rmse: 0.518035\tvalid_1's rmse: 1.18128\n",
      "[150]\ttraining's rmse: 0.479349\tvalid_1's rmse: 1.1791\n",
      "[175]\ttraining's rmse: 0.449355\tvalid_1's rmse: 1.17829\n",
      "[200]\ttraining's rmse: 0.425713\tvalid_1's rmse: 1.17821\n",
      "[225]\ttraining's rmse: 0.405895\tvalid_1's rmse: 1.17741\n",
      "[250]\ttraining's rmse: 0.389034\tvalid_1's rmse: 1.17708\n",
      "[275]\ttraining's rmse: 0.374821\tvalid_1's rmse: 1.17712\n",
      "[300]\ttraining's rmse: 0.360755\tvalid_1's rmse: 1.17716\n",
      "Early stopping, best iteration is:\n",
      "[268]\ttraining's rmse: 0.378875\tvalid_1's rmse: 1.17698\n",
      "[LightGBM] [Warning] Auto-choosing col-wise multi-threading, the overhead of testing was 0.082185 seconds.\n",
      "You can set `force_col_wise=true` to remove the overhead.\n",
      "[LightGBM] [Info] Total Bins 10027\n",
      "[LightGBM] [Info] Number of data points in the train set: 658568, number of used features: 49\n",
      "[LightGBM] [Info] Start training from score 4.174331\n",
      "Training until validation scores don't improve for 40 rounds\n",
      "[25]\ttraining's rmse: 1.02209\tvalid_1's rmse: 1.35174\n",
      "[50]\ttraining's rmse: 0.722621\tvalid_1's rmse: 1.2223\n",
      "[75]\ttraining's rmse: 0.610686\tvalid_1's rmse: 1.18349\n",
      "[100]\ttraining's rmse: 0.546908\tvalid_1's rmse: 1.16682\n",
      "[125]\ttraining's rmse: 0.500147\tvalid_1's rmse: 1.15567\n",
      "[150]\ttraining's rmse: 0.464037\tvalid_1's rmse: 1.14849\n",
      "[175]\ttraining's rmse: 0.436163\tvalid_1's rmse: 1.14536\n",
      "[200]\ttraining's rmse: 0.41364\tvalid_1's rmse: 1.14312\n",
      "[225]\ttraining's rmse: 0.395941\tvalid_1's rmse: 1.1418\n",
      "[250]\ttraining's rmse: 0.379123\tvalid_1's rmse: 1.1409\n",
      "[275]\ttraining's rmse: 0.364869\tvalid_1's rmse: 1.13953\n",
      "[300]\ttraining's rmse: 0.35248\tvalid_1's rmse: 1.1393\n",
      "[325]\ttraining's rmse: 0.34057\tvalid_1's rmse: 1.13873\n",
      "[350]\ttraining's rmse: 0.329705\tvalid_1's rmse: 1.13837\n",
      "[375]\ttraining's rmse: 0.319038\tvalid_1's rmse: 1.13778\n",
      "[400]\ttraining's rmse: 0.309562\tvalid_1's rmse: 1.13773\n",
      "[425]\ttraining's rmse: 0.300008\tvalid_1's rmse: 1.13722\n",
      "[450]\ttraining's rmse: 0.291865\tvalid_1's rmse: 1.13712\n",
      "[475]\ttraining's rmse: 0.28376\tvalid_1's rmse: 1.13718\n",
      "Early stopping, best iteration is:\n",
      "[455]\ttraining's rmse: 0.290313\tvalid_1's rmse: 1.13708\n",
      "[LightGBM] [Warning] Auto-choosing col-wise multi-threading, the overhead of testing was 0.081096 seconds.\n",
      "You can set `force_col_wise=true` to remove the overhead.\n",
      "[LightGBM] [Info] Total Bins 10029\n",
      "[LightGBM] [Info] Number of data points in the train set: 658568, number of used features: 49\n",
      "[LightGBM] [Info] Start training from score 4.212467\n",
      "Training until validation scores don't improve for 40 rounds\n",
      "[25]\ttraining's rmse: 1.03031\tvalid_1's rmse: 1.26827\n",
      "[50]\ttraining's rmse: 0.743497\tvalid_1's rmse: 1.14683\n",
      "[75]\ttraining's rmse: 0.632393\tvalid_1's rmse: 1.1292\n",
      "[100]\ttraining's rmse: 0.56382\tvalid_1's rmse: 1.12541\n",
      "[125]\ttraining's rmse: 0.513058\tvalid_1's rmse: 1.12417\n",
      "[150]\ttraining's rmse: 0.475065\tvalid_1's rmse: 1.12425\n",
      "[175]\ttraining's rmse: 0.445532\tvalid_1's rmse: 1.12402\n",
      "[200]\ttraining's rmse: 0.421889\tvalid_1's rmse: 1.12429\n",
      "Early stopping, best iteration is:\n",
      "[170]\ttraining's rmse: 0.450537\tvalid_1's rmse: 1.12399\n"
     ]
    }
   ],
   "source": [
    "##LGBM is more accurate with categorical features specified first.\n",
    "categorical_features = [\"building_id\", \"site_id\", \"meter\", \"primary_use\",'hour','week','month', 'yr_built',\"weekend\",'IsHoliday']\n",
    "\n",
    "params = {\n",
    "    \"objective\": \"regression\",\n",
    "    \"boosting\": \"gbdt\",\n",
    "    \"num_leaves\": 1280,\n",
    "    \"learning_rate\": 0.05,\n",
    "    \"feature_fraction\": 0.85,\n",
    "    \"reg_lambda\": 2,\n",
    "    \"metric\": \"rmse\",\n",
    "}\n",
    "\n",
    "kf = KFold(n_splits=3)\n",
    "models = []\n",
    "for train_index,test_index in kf.split(features):\n",
    "    train_features = features.loc[train_index]\n",
    "    train_target = target.loc[train_index]\n",
    "    \n",
    "    test_features = features.loc[test_index]\n",
    "    test_target = target.loc[test_index]\n",
    "    \n",
    "    d_training = lgb.Dataset(train_features, label=train_target,categorical_feature=categorical_features, free_raw_data=False)\n",
    "    d_test = lgb.Dataset(test_features, label=test_target,categorical_feature=categorical_features, free_raw_data=False)\n",
    "    \n",
    "    model = lgb.train(params, train_set=d_training, num_boost_round=1000, valid_sets=[d_training,d_test], verbose_eval=25, early_stopping_rounds=40)\n",
    "    \n",
    "    models.append(model)"
   ]
  },
  {
   "cell_type": "code",
   "execution_count": null,
   "metadata": {},
   "outputs": [],
   "source": []
  },
  {
   "cell_type": "markdown",
   "metadata": {},
   "source": [
    "<h1 style=\"color:#20B3CD;font-size:20px;float:left\">Step 4  |  Model Packaging and Result Sharing</h1> <div style=\"float:right;height:7px;background-color:#20B3CD;margin-top:30px;width:70%\"></div>"
   ]
  },
  {
   "cell_type": "code",
   "execution_count": 26,
   "metadata": {},
   "outputs": [],
   "source": [
    "import joblib\n",
    "# save model\n",
    "joblib.dump(models[0], 'lgb.pkl')\n",
    "# load model\n",
    "gbm_pickle = joblib.load('lgb.pkl')"
   ]
  },
  {
   "cell_type": "code",
   "execution_count": 27,
   "metadata": {},
   "outputs": [],
   "source": [
    "avg_score=0.\n",
    "for model in models:\n",
    "    avg_score += [list(i.values()) for i in model.best_score.values()][1][0]\n",
    "final_avg = avg_score / 3."
   ]
  },
  {
   "cell_type": "code",
   "execution_count": 28,
   "metadata": {},
   "outputs": [],
   "source": [
    "## Print the message to python and send the message to s3\n",
    "data = {'model_name':  ['lightGBM'],\n",
    "        'avg_rmse accuracy': [final_avg]\n",
    "        }"
   ]
  },
  {
   "cell_type": "code",
   "execution_count": 29,
   "metadata": {},
   "outputs": [
    {
     "data": {
      "text/html": [
       "<div>\n",
       "<style scoped>\n",
       "    .dataframe tbody tr th:only-of-type {\n",
       "        vertical-align: middle;\n",
       "    }\n",
       "\n",
       "    .dataframe tbody tr th {\n",
       "        vertical-align: top;\n",
       "    }\n",
       "\n",
       "    .dataframe thead th {\n",
       "        text-align: right;\n",
       "    }\n",
       "</style>\n",
       "<table border=\"1\" class=\"dataframe\">\n",
       "  <thead>\n",
       "    <tr style=\"text-align: right;\">\n",
       "      <th></th>\n",
       "      <th>model_name</th>\n",
       "      <th>avg_rmse accuracy</th>\n",
       "    </tr>\n",
       "  </thead>\n",
       "  <tbody>\n",
       "    <tr>\n",
       "      <th>0</th>\n",
       "      <td>lightGBM</td>\n",
       "      <td>1.146013</td>\n",
       "    </tr>\n",
       "  </tbody>\n",
       "</table>\n",
       "</div>"
      ],
      "text/plain": [
       "  model_name  avg_rmse accuracy\n",
       "0   lightGBM           1.146013"
      ]
     },
     "execution_count": 29,
     "metadata": {},
     "output_type": "execute_result"
    }
   ],
   "source": [
    "metric_df = pd.DataFrame (data, columns = ['model_name','avg_rmse accuracy'])\n",
    "metric_df"
   ]
  },
  {
   "cell_type": "code",
   "execution_count": 30,
   "metadata": {},
   "outputs": [
    {
     "data": {
      "text/plain": [
       "{'ResponseMetadata': {'RequestId': 'F8E556EE6FD1F24C',\n",
       "  'HostId': 'en3dJibRLL7GY42ojXCFfoueEns9RGNhB2pHTxaJ4qyljQ1dvUHTi0ji/YY1b2gaSsOD+wDaRu4=',\n",
       "  'HTTPStatusCode': 200,\n",
       "  'HTTPHeaders': {'x-amz-id-2': 'en3dJibRLL7GY42ojXCFfoueEns9RGNhB2pHTxaJ4qyljQ1dvUHTi0ji/YY1b2gaSsOD+wDaRu4=',\n",
       "   'x-amz-request-id': 'F8E556EE6FD1F24C',\n",
       "   'date': 'Tue, 22 Dec 2020 22:54:14 GMT',\n",
       "   'x-amz-server-side-encryption': 'AES256',\n",
       "   'etag': '\"63f7287479a725590e6e129e615d3e6f\"',\n",
       "   'content-length': '0',\n",
       "   'server': 'AmazonS3'},\n",
       "  'RetryAttempts': 0},\n",
       " 'ETag': '\"63f7287479a725590e6e129e615d3e6f\"',\n",
       " 'ServerSideEncryption': 'AES256'}"
      ]
     },
     "execution_count": 30,
     "metadata": {},
     "output_type": "execute_result"
    }
   ],
   "source": [
    "from io import StringIO\n",
    "from datetime import datetime\n",
    "bucket='blogdemo-ml-train-score-output'\n",
    "csv_key='training_accuracy.csv'\n",
    "pickle_key = 'lgb.pkl'\n",
    "prefix = 'training_model_' + datetime.now().strftime('%Y-%m-%d') + \"/\"\n",
    "\n",
    "\n",
    "s3 = boto3.resource('s3')\n",
    "s3.Object(bucket, prefix + pickle_key).put(Body=open(pickle_key, 'rb'))"
   ]
  },
  {
   "cell_type": "code",
   "execution_count": 31,
   "metadata": {},
   "outputs": [
    {
     "data": {
      "text/plain": [
       "{'ResponseMetadata': {'RequestId': '91ED59F05B189084',\n",
       "  'HostId': 'fN4djYQdwihC7Zl2n889cgwahznMl5D/cKuzWMVPDWnossMyz64oXmJO9owpUUTfHjd2Me4HBp0=',\n",
       "  'HTTPStatusCode': 200,\n",
       "  'HTTPHeaders': {'x-amz-id-2': 'fN4djYQdwihC7Zl2n889cgwahznMl5D/cKuzWMVPDWnossMyz64oXmJO9owpUUTfHjd2Me4HBp0=',\n",
       "   'x-amz-request-id': '91ED59F05B189084',\n",
       "   'date': 'Tue, 22 Dec 2020 22:54:14 GMT',\n",
       "   'x-amz-server-side-encryption': 'AES256',\n",
       "   'etag': '\"078b30585f45f8df8963c5b369ef06e6\"',\n",
       "   'content-length': '0',\n",
       "   'server': 'AmazonS3'},\n",
       "  'RetryAttempts': 0},\n",
       " 'ETag': '\"078b30585f45f8df8963c5b369ef06e6\"',\n",
       " 'ServerSideEncryption': 'AES256'}"
      ]
     },
     "execution_count": 31,
     "metadata": {},
     "output_type": "execute_result"
    }
   ],
   "source": [
    "csv_buffer = StringIO()\n",
    "metric_df.to_csv(csv_buffer)\n",
    "s3.Object(bucket, prefix + csv_key).put(Body = csv_buffer.getvalue())"
   ]
  },
  {
   "cell_type": "markdown",
   "metadata": {},
   "source": [
    "<div style=\"height:60px;\"><div style=\"height:7px;background-color:#20B3CD;width:100%;margin-top:20px;position:relative;\"><img src=\"https://s3.amazonaws.com/iotanalytics-templates/Logo.png\" style=\"height:50px;width:50px;margin-top:-20px;position:absolute;margin-left:42%;\"></div></div>"
   ]
  }
 ],
 "metadata": {
  "kernelspec": {
   "display_name": "Containerized conda_python3",
   "language": "python",
   "name": "containerized_conda_python3"
  },
  "language_info": {
   "codemirror_mode": {
    "name": "ipython",
    "version": 3
   },
   "file_extension": ".py",
   "mimetype": "text/x-python",
   "name": "python",
   "nbconvert_exporter": "python",
   "pygments_lexer": "ipython3",
   "version": "3.6.10"
  }
 },
 "nbformat": 4,
 "nbformat_minor": 2
}
